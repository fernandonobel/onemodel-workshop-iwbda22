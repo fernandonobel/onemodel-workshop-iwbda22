{
 "cells": [
  {
   "cell_type": "markdown",
   "metadata": {
    "id": "DYkIxvRlybd7"
   },
   "source": [
    "# OneModel: an open-source SBML modeling tool focused on accessibility, simplicity and modularity"
   ]
  },
  {
   "cell_type": "markdown",
   "metadata": {
    "id": "V5hNQzNCZ6aj"
   },
   "source": [
    "## Install OneModel and dependencies needed for the workshop"
   ]
  },
  {
   "cell_type": "code",
   "execution_count": null,
   "metadata": {
    "colab": {
     "base_uri": "https://localhost:8080/"
    },
    "id": "T-XV95P3yKaJ",
    "outputId": "1832869e-7588-4651-c511-2cdbc28e6d84",
    "scrolled": true
   },
   "outputs": [],
   "source": [
    "!pip install -I --no-cache-dir https://github.com/fernandonobel/onemodel/archive/jupyter.zip"
   ]
  },
  {
   "cell_type": "markdown",
   "metadata": {
    "id": "kZ_PiD7oW2Nw"
   },
   "source": [
    "## PART 1: How to model biological processes using OneModel"
   ]
  },
  {
   "cell_type": "markdown",
   "metadata": {
    "id": "PLjanPdaXIMV"
   },
   "source": [
    "### Exercise 01: The OneModel REPL (Read-Eval-Print Loop)\n",
    "\n",
    "OneModel has an interactive command-line REPL (read-eval-print loop).\n",
    "\n",
    "**Task:** Try to use the OneModel REPL build a model interactively.\n",
    "\n",
    "**Time limit:** 5 minutes.\n",
    "\n",
    "For example, \n",
    "\n",
    "```\n",
    "my_variable = 10\n",
    "parameter a = 0\n",
    "```\n",
    "\n",
    "**Supporting material:** Link to the documentation.\n",
    "\n",
    "**Note:** use only single-line commands. To use a multiline command (i.e. a parameter block) you have to introduce manually intro lines using `;`\n",
    "\n",
    "For example,\n",
    "\n",
    "```\n",
    "# Multi-line version of a parameter block.\n",
    "parameter\n",
    "  foo = 10\n",
    "  bar = 20\n",
    "end\n",
    "\n",
    "# Singe-line parameter block.\n",
    "parameter; foo = 10; bar = 20; end\n",
    "\n",
    "# Even easier just use regular single-line commands.\n",
    "parameter foo = 10\n",
    "parameter bar = 20\n",
    "```"
   ]
  },
  {
   "cell_type": "code",
   "execution_count": null,
   "metadata": {
    "colab": {
     "base_uri": "https://localhost:8080/"
    },
    "id": "T5YktguX-IZU",
    "outputId": "4ab2188d-ea82-4267-cec5-4d670f84ef84",
    "scrolled": true
   },
   "outputs": [],
   "source": [
    "import onemodel as one\n",
    "\n",
    "model = one.shell()\n",
    "\n",
    "print(\"\\n=== Built-in and user-defined variables =============\")\n",
    "print(model)\n",
    "\n",
    "print(\"\\n=== SBML representation of the model ================\")\n",
    "sbml = model.get_SBML_string()\n",
    "print(sbml)\n"
   ]
  },
  {
   "cell_type": "markdown",
   "metadata": {},
   "source": [
    "### Exercise 02: Define models using scripts\n",
    "\n",
    "Instead of using the OneModel REPL, we can define models permanently using scripts."
   ]
  },
  {
   "cell_type": "code",
   "execution_count": null,
   "metadata": {},
   "outputs": [],
   "source": [
    "import onemodel as one\n",
    "\n",
    "model_code = \"\"\"\n",
    "parameter \n",
    "    k = 20\n",
    "    d = 0.1\n",
    "end\n",
    "\n",
    "species x = 0\n",
    "\n",
    "rule R1: der(x) := k - d*x\n",
    "\"\"\"\n",
    "\n",
    "model = one.evaluate(model_code)\n",
    "\n",
    "print(model)"
   ]
  },
  {
   "cell_type": "markdown",
   "metadata": {},
   "source": [
    "### Exercise 03: Load a script from a file"
   ]
  },
  {
   "cell_type": "code",
   "execution_count": null,
   "metadata": {
    "scrolled": false
   },
   "outputs": [],
   "source": [
    "import onemodel as one\n",
    "\n",
    "filename = \"ex01_simple_gene_expression.one\"\n",
    "\n",
    "model = one.load(filename)\n",
    "\n",
    "print(model)"
   ]
  },
  {
   "cell_type": "markdown",
   "metadata": {},
   "source": [
    "### Exercise 4: Simulate the model using \"roadrunner\""
   ]
  },
  {
   "cell_type": "code",
   "execution_count": null,
   "metadata": {},
   "outputs": [],
   "source": [
    "import onemodel as one\n",
    "import roadrunner\n",
    "\n",
    "model_code = \"\"\"\n",
    "parameter \n",
    "    k = 20\n",
    "    d = 0.1\n",
    "end\n",
    "\n",
    "species x = 0\n",
    "\n",
    "rule R1: der(x) := k - d*x\n",
    "\"\"\"\n",
    "\n",
    "model = one.evaluate(model_code)\n",
    "\n",
    "sbml = model.get_SBML_string()\n",
    "\n",
    "rr = roadrunner.RoadRunner(sbml)\n",
    "results = rr.simulate(0, 100, 100)\n",
    "rr.plot()"
   ]
  },
  {
   "cell_type": "markdown",
   "metadata": {},
   "source": [
    "### Exercise 5: Model constitutive protein expression\n",
    "\n",
    "**Set of reactions:**\n",
    "\n",
    "* mRNA transcription: $\\ce{\\emptyset->[k_m] mRNA}$\n",
    "* mRNA degradation: $\\ce{mRNA ->[d_m] \\emptyset}$\n",
    "* Protein translation: $\\ce{mRNA ->[k_p] mRNA + protein}$\n",
    "* Protein degradation: $\\ce{protein ->[d_p] \\emptyset}$\n",
    "\n",
    "**Set of parameters:**\n",
    "\n",
    "* Transcription rate: $k_m$\n",
    "* mRNA degradation rate: $d_m$\n",
    "* Translation rate: $k_p$\n",
    "* Protein degradation rate: $d_p$\n",
    "\n",
    "**Set of species:**\n",
    "\n",
    "* Concentration of mRNA: $mRNA$\n",
    "* Concentration of protein: $protein$"
   ]
  },
  {
   "cell_type": "code",
   "execution_count": null,
   "metadata": {
    "scrolled": true
   },
   "outputs": [],
   "source": [
    "import onemodel as one\n",
    "\n",
    "model_code = \"\"\"\n",
    "# TODO: Write your model here.\n",
    "\n",
    "\"\"\"\n",
    "\n",
    "model = one.evaluate(model_code)\n",
    "\n",
    "print(model)"
   ]
  },
  {
   "cell_type": "markdown",
   "metadata": {
    "id": "kZ_PiD7oW2Nw"
   },
   "source": [
    "## PART 2: How to reuse and extend your models using OneModel"
   ]
  }
 ],
 "metadata": {
  "colab": {
   "collapsed_sections": [],
   "provenance": []
  },
  "kernelspec": {
   "display_name": "Python 3 (ipykernel)",
   "language": "python",
   "name": "python3"
  },
  "language_info": {
   "codemirror_mode": {
    "name": "ipython",
    "version": 3
   },
   "file_extension": ".py",
   "mimetype": "text/x-python",
   "name": "python",
   "nbconvert_exporter": "python",
   "pygments_lexer": "ipython3",
   "version": "3.7.2"
  }
 },
 "nbformat": 4,
 "nbformat_minor": 1
}
